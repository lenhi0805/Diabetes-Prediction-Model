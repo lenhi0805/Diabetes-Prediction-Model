import pandas as pd
import seaborn as sns
import statsmodels.api as sm
import matplotlib.pyplot as plt
import numpy as np
from statsmodels.formula.api import ols
from sklearn.linear_model import LinearRegression
df = pd.read_csv('diabetes.csv')
df.columns = [c.replace("\n", "") for c in df.columns]
df.head()

#a) Exploratory analysis of data 
print(df.shape)
df = df.reset_index(drop=True)


sns.histplot(df.iloc[:,8])

sns.histplot(df.iloc[:,0])

sns.boxplot(x=df.iloc[:,8], y=df.iloc[:,2])

sns.boxplot(x=df.iloc[:,8], y=df.iloc[:,5])

correlation_matrix = df.corr()
sns.heatmap(correlation_matrix, annot=True)

